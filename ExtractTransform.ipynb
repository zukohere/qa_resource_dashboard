{
 "cells": [
  {
   "cell_type": "code",
   "execution_count": 1,
   "metadata": {},
   "outputs": [],
   "source": [
    "import pandas as pd\n",
    "import json"
   ]
  },
  {
   "cell_type": "code",
   "execution_count": 2,
   "metadata": {},
   "outputs": [],
   "source": [
    "# Topic/Employee Admin Parameters/sheet columns\n",
    "adminList = [\"TopicGoals\", \"EmpRoster\", \"EmpAffinity\"]\n",
    "\n",
    "adminCols = {\"TopicGoals\": [\"Topic\",\"Goal\",\"std_hours\"], \n",
    "             \"EmpRoster\": [\"EmpNum\",\"Last\",\"First\",\"Title\",\"Department\"], \n",
    "             \"EmpAffinity\": [\"EmpNum\",\"Last\",\"First\",\"Title\",\"Topic\",\"SkillRating_1to5\"]}\n",
    "\n",
    "# Timesheet parameters/sheet columns\n",
    "TopicList = [\"CAPA\",\n",
    "\"Inspection\",\n",
    "\"New Product\",\n",
    "\"Audit\",\n",
    "\"Training\"\n",
    "]\n",
    "\n",
    "TopicCols = {\n",
    "    \"CAPA\": [\"IssueNum\",\"TaskType\",\"EmpNum\",\"Hours\",\"Date\",\"Status\",\"Product\"],\n",
    "\"Inspection\": [\"InspectionNum\",\"Product\",\"InspType\",\"EmpNum\",\"Hours\",\"Date\",\"Status\"],\n",
    "\"New Product\": [\"ProjectNum\", \"Product\",\"TaskType\",\"EmpNum\",\"Hours\",\"Date\",\"Status\"],\n",
    "\"Audit\": [\"AuditNo\",\"Lead\",\"Duration\",\"TargetDate\",\"ActualDate\",\"Type\",\"Title\"],\n",
    "\"Training\": [\"Instructor\",\"Duration\",\"TargetDate\",\"ActualDate\",\"Type\",\"DocNo\",\"DocName\",\"RefNum\"]\n",
    "}\n",
    "\n",
    "sheets = adminList + TopicList\n",
    "colLookups = {**adminCols, **TopicCols}\n",
    "\n",
    "# desiredCols = [Topic, RefNum, Detail, SubType, Date, Hours, Status, EmpNum, EmpName]\n",
    "renameDict ={\n",
    "        \"CAPA\": {\"IssueNum\":\"RefNum\",\n",
    "                 \"Product\": \"Detail\",\n",
    "                 \"TaskType\": \"SubType\",\n",
    "                 \"EmpNum\": \"EmpNum\",\n",
    "                 \"Hours\": \"Hours\",\n",
    "                 \"Date\": \"Date\",\n",
    "                 \"Status\": \"Status\"},\n",
    "\"Inspection\": {\"InspectionNum\": \"RefNum\",\n",
    "               \"Product\": \"Detail\",\n",
    "               \"InspType\": \"SubType\",\n",
    "               \"EmpNum\": \"EmpNum\",\n",
    "               \"Hours\": \"Hours\",\n",
    "               \"Date\": \"Date\",\n",
    "               \"Status\": \"Status\"},\n",
    "\"New Product\": {\"ProjectNum\":\"RefNum\",\n",
    "                \"Product\": \"Detail\",\n",
    "                \"TaskType\": \"SubType\",\n",
    "                \"EmpNum\": \"EmpNum\",\n",
    "                \"Hours\": \"Hours\",\n",
    "                \"Date\": \"Date\",\n",
    "                \"Status\": \"Status\"},\n",
    "\"Audit\": {\"AuditNo\": \"RefNum\",\n",
    "          \"Lead\": \"EmpNum\",\n",
    "          \"Duration\": \"Hours\",\n",
    "#           \"TargetDate\",\n",
    "          \"ActualDate\": \"Date\",\n",
    "          \"Type\": \"SubType\",\n",
    "         \"Title\": \"Detail\"},\n",
    "\"Training\": {\"Instructor\": \"EmpNum\",\n",
    "             \"Duration\": \"Hours\",\n",
    "#              \"TargetDate\",\n",
    "             \"ActualDate\": \"Date\",\n",
    "             \"Type\": \"SubType\",\n",
    "             \"DocNo\": \"Detail\",\n",
    "#              \"DocName\"\n",
    "             \"RefNum\": \"RefNum\"\n",
    "            }\n",
    "}"
   ]
  },
  {
   "cell_type": "code",
   "execution_count": 3,
   "metadata": {},
   "outputs": [],
   "source": [
    "xlsx = pd.ExcelFile('TimeSheetGenerator.xlsx')"
   ]
  },
  {
   "cell_type": "code",
   "execution_count": 4,
   "metadata": {},
   "outputs": [],
   "source": [
    "# QUALITY CHECK: Are expected sheets and columns present?\n",
    "sheetCheck = {}\n",
    "for sheet in sheets:\n",
    "    if sheet in xlsx.sheet_names:\n",
    "        sheetCheck[sheet] = sheet + \" is present.\"\n",
    "    else:\n",
    "        sheetCheck[sheet] = \"Error: \"+ sheet + \" NOT is present.\""
   ]
  },
  {
   "cell_type": "code",
   "execution_count": 5,
   "metadata": {},
   "outputs": [
    {
     "data": {
      "text/plain": [
       "{'TopicGoals': 'TopicGoals is present.',\n",
       " 'EmpRoster': 'EmpRoster is present.',\n",
       " 'EmpAffinity': 'EmpAffinity is present.',\n",
       " 'CAPA': 'CAPA is present.',\n",
       " 'Inspection': 'Inspection is present.',\n",
       " 'New Product': 'New Product is present.',\n",
       " 'Audit': 'Audit is present.',\n",
       " 'Training': 'Training is present.'}"
      ]
     },
     "execution_count": 5,
     "metadata": {},
     "output_type": "execute_result"
    }
   ],
   "source": [
    "sheetCheck"
   ]
  },
  {
   "cell_type": "code",
   "execution_count": 6,
   "metadata": {},
   "outputs": [],
   "source": [
    "colCheck = {}\n",
    "for sheet in sheets:\n",
    "    checksheet = xlsx.parse(sheet_name=sheet)\n",
    "    for col in colLookups[sheet]:\n",
    "        if col not in checksheet.columns:\n",
    "            colCheck[sheet] = \"Error: Column \"+ col + \" is NOT present.\"\n",
    "        else:\n",
    "            colCheck[sheet] = \"All columns present.\""
   ]
  },
  {
   "cell_type": "code",
   "execution_count": 7,
   "metadata": {},
   "outputs": [
    {
     "data": {
      "text/plain": [
       "{'TopicGoals': 'All columns present.',\n",
       " 'EmpRoster': 'All columns present.',\n",
       " 'EmpAffinity': 'All columns present.',\n",
       " 'CAPA': 'All columns present.',\n",
       " 'Inspection': 'All columns present.',\n",
       " 'New Product': 'All columns present.',\n",
       " 'Audit': 'All columns present.',\n",
       " 'Training': 'All columns present.'}"
      ]
     },
     "execution_count": 7,
     "metadata": {},
     "output_type": "execute_result"
    }
   ],
   "source": [
    "colCheck"
   ]
  },
  {
   "cell_type": "code",
   "execution_count": 8,
   "metadata": {},
   "outputs": [],
   "source": [
    "# Create dictionary of dataframes with only needed columns from colLookups\n",
    "dfDict = {}\n",
    "for sheet in sheets:\n",
    "    dfDict[sheet]=pd.read_excel(xlsx,sheet)[colLookups[sheet]]\n",
    "    "
   ]
  },
  {
   "cell_type": "code",
   "execution_count": 9,
   "metadata": {},
   "outputs": [],
   "source": [
    "# Add Status to Audit and Training for On-time/Late\n",
    "for topic in [\"Audit\",\"Training\"]:\n",
    "    StatusList = []\n",
    "    for index, row in dfDict[topic].iterrows():\n",
    "        if row[\"ActualDate\"] > row[\"TargetDate\"]:\n",
    "            StatusList.append(\"Late\")\n",
    "        else:\n",
    "            StatusList.append(\"On Time\")\n",
    "    dfDict[topic][\"Status\"] = StatusList"
   ]
  },
  {
   "cell_type": "code",
   "execution_count": 10,
   "metadata": {},
   "outputs": [],
   "source": [
    "# Standardize column names\n",
    "for topic in TopicList:\n",
    "#     print(topic)\n",
    "    dfDict[topic]=dfDict[topic].rename(columns = renameDict[topic])\n",
    "    dfDict[topic][\"Topic\"] = topic\n",
    "    dfDict[topic] = dfDict[topic][[\"Topic\", \"RefNum\", \"Detail\", \"SubType\", \n",
    "                                  \"Date\", \"Hours\", \"Status\", \"EmpNum\"]].astype({\"EmpNum\":\"str\"})"
   ]
  },
  {
   "cell_type": "code",
   "execution_count": 11,
   "metadata": {},
   "outputs": [],
   "source": [
    "# combine all dfs\n",
    "fulldf = pd.concat([dfDict[topic] for topic in TopicList])\n",
    "# fulldf"
   ]
  },
  {
   "cell_type": "code",
   "execution_count": 12,
   "metadata": {},
   "outputs": [],
   "source": [
    "####### SANKEY #######"
   ]
  },
  {
   "cell_type": "code",
   "execution_count": 13,
   "metadata": {},
   "outputs": [],
   "source": [
    "# Restructure with needed info for Sankey\n",
    "Sankey_df = fulldf.groupby([\"EmpNum\",\"Topic\",\"Status\"])[\"Hours\"].agg(['count']).reset_index()\n",
    "# Sankey_df"
   ]
  },
  {
   "cell_type": "code",
   "execution_count": 14,
   "metadata": {},
   "outputs": [],
   "source": [
    "# Create Sankey data with records structure\n",
    "ontimeSankey = Sankey_df.to_dict(orient=\"records\")\n",
    "# ontimeSankey"
   ]
  },
  {
   "cell_type": "code",
   "execution_count": 15,
   "metadata": {},
   "outputs": [],
   "source": [
    "## Radar data##"
   ]
  },
  {
   "cell_type": "code",
   "execution_count": 25,
   "metadata": {},
   "outputs": [],
   "source": [
    "people_df= dfDict[\"EmpAffinity\"][[\"EmpNum\",\"Title\",\"Topic\",\"SkillRating_1to5\"]].astype({\"EmpNum\":\"str\"})\n",
    "# people_df"
   ]
  },
  {
   "cell_type": "code",
   "execution_count": 28,
   "metadata": {},
   "outputs": [],
   "source": [
    "# set up lookups for name and title\n",
    "dfDict[\"EmpRoster\"][\"EmpName\"] = dfDict[\"EmpRoster\"][\"First\"].str[0]+\" \"+dfDict[\"EmpRoster\"][\"Last\"]\n",
    "infodict = dfDict[\"EmpRoster\"][[\"EmpNum\",\"EmpName\",\"Title\"]].astype({\"EmpNum\":\"str\"}).set_index(\"EmpNum\").to_dict(orient=\"index\")\n",
    "\n",
    "# set up affinity and hours spent on topic with structure needed for radar chart\n",
    "radardict = {}\n",
    "for person in people_df[\"EmpNum\"].unique():\n",
    "    affinity = people_df[people_df[\"EmpNum\"]==person][[\"Topic\",\"SkillRating_1to5\"]].set_index(\"Topic\").to_dict()[\"SkillRating_1to5\"]\n",
    "    TopicHours = fulldf[fulldf[\"EmpNum\"]==person][[\"Topic\",\"Hours\"]].groupby(\"Topic\").sum(\"Hours\").to_dict()[\"Hours\"]\n",
    "    radardict[person]={}\n",
    "    radardict[person][\"affinity\"] = affinity\n",
    "    radardict[person][\"topicHours\"]=TopicHours\n",
    "    radardict[person][\"name\"] = infodict[person][\"EmpName\"]\n",
    "    radardict[person][\"title\"] = infodict[person][\"Title\"]"
   ]
  },
  {
   "cell_type": "code",
   "execution_count": 18,
   "metadata": {},
   "outputs": [],
   "source": [
    "#### Add in Goal Levels"
   ]
  },
  {
   "cell_type": "code",
   "execution_count": 29,
   "metadata": {},
   "outputs": [],
   "source": [
    "topicGoals = dfDict[\"TopicGoals\"].set_index(\"Topic\").to_dict(orient=\"index\")"
   ]
  },
  {
   "cell_type": "code",
   "execution_count": 30,
   "metadata": {},
   "outputs": [
    {
     "data": {
      "text/plain": [
       "{'CAPA': {'Goal': 0.2, 'std_hours': 8},\n",
       " 'Inspection': {'Goal': 0.25, 'std_hours': 10},\n",
       " 'New Product': {'Goal': 0.3, 'std_hours': 12},\n",
       " 'Audit': {'Goal': 0.15, 'std_hours': 6},\n",
       " 'Training': {'Goal': 0.1, 'std_hours': 4}}"
      ]
     },
     "execution_count": 30,
     "metadata": {},
     "output_type": "execute_result"
    }
   ],
   "source": [
    "topicGoals"
   ]
  },
  {
   "cell_type": "code",
   "execution_count": 21,
   "metadata": {},
   "outputs": [],
   "source": [
    "### Create json structure"
   ]
  },
  {
   "cell_type": "code",
   "execution_count": 31,
   "metadata": {},
   "outputs": [],
   "source": [
    "outdata = {\n",
    "    \"Goals\": topicGoals,\n",
    "    \"radarData\": radardict,\n",
    "    \"sankeyData\": ontimeSankey\n",
    "}"
   ]
  },
  {
   "cell_type": "code",
   "execution_count": 32,
   "metadata": {},
   "outputs": [
    {
     "data": {
      "text/plain": [
       "{'Goals': {'CAPA': {'Goal': 0.2, 'std_hours': 8},\n",
       "  'Inspection': {'Goal': 0.25, 'std_hours': 10},\n",
       "  'New Product': {'Goal': 0.3, 'std_hours': 12},\n",
       "  'Audit': {'Goal': 0.15, 'std_hours': 6},\n",
       "  'Training': {'Goal': 0.1, 'std_hours': 4}},\n",
       " 'radarData': {'29436': {'affinity': {'Training': 2,\n",
       "    'CAPA': 2,\n",
       "    'Inspection': 4,\n",
       "    'New Product': 1,\n",
       "    'Audit': 3},\n",
       "   'topicHours': {'CAPA': 11.0, 'Inspection': 7.5, 'Training': 6.0},\n",
       "   'name': 'K Hart',\n",
       "   'title': 'Inspector'},\n",
       "  '32301': {'affinity': {'CAPA': 5,\n",
       "    'Inspection': 4,\n",
       "    'New Product': 4,\n",
       "    'Audit': 4,\n",
       "    'Training': 5},\n",
       "   'topicHours': {'Audit': 10.5,\n",
       "    'CAPA': 8.0,\n",
       "    'Inspection': 3.75,\n",
       "    'Training': 6.25},\n",
       "   'name': 'J Scott',\n",
       "   'title': 'Quality Supervisor'},\n",
       "  '49570': {'affinity': {'Inspection': 4,\n",
       "    'New Product': 1,\n",
       "    'Audit': 4,\n",
       "    'Training': 2,\n",
       "    'CAPA': 3},\n",
       "   'topicHours': {'Audit': 20.5,\n",
       "    'CAPA': 21.0,\n",
       "    'Inspection': 6.75,\n",
       "    'Training': 2.0},\n",
       "   'name': 'Z Taylor',\n",
       "   'title': 'Inspector'},\n",
       "  '77030': {'affinity': {'New Product': 2,\n",
       "    'Audit': 5,\n",
       "    'Training': 4,\n",
       "    'CAPA': 4,\n",
       "    'Inspection': 2},\n",
       "   'topicHours': {'Audit': 47.5,\n",
       "    'CAPA': 35.0,\n",
       "    'Inspection': 6.25,\n",
       "    'Training': 2.25},\n",
       "   'name': 'B Cranston',\n",
       "   'title': 'Quality Analyst'},\n",
       "  '77707': {'affinity': {'Audit': 4,\n",
       "    'Training': 4,\n",
       "    'CAPA': 3,\n",
       "    'Inspection': 3,\n",
       "    'New Product': 2},\n",
       "   'topicHours': {'Audit': 17.5,\n",
       "    'CAPA': 9.0,\n",
       "    'Inspection': 5.75,\n",
       "    'Training': 7.5},\n",
       "   'name': 'T Kwan',\n",
       "   'title': 'Quality Coordinator'},\n",
       "  '88927': {'affinity': {'CAPA': 2,\n",
       "    'Inspection': 5,\n",
       "    'New Product': 5,\n",
       "    'Audit': 3,\n",
       "    'Training': 3},\n",
       "   'topicHours': {'CAPA': 27.0, 'Inspection': 12.25, 'Training': 5.0},\n",
       "   'name': 'T Oliver',\n",
       "   'title': 'Quality Engineer'}},\n",
       " 'sankeyData': [{'EmpNum': '29436',\n",
       "   'Topic': 'CAPA',\n",
       "   'Status': 'Late',\n",
       "   'count': 3},\n",
       "  {'EmpNum': '29436', 'Topic': 'CAPA', 'Status': 'On Time', 'count': 1},\n",
       "  {'EmpNum': '29436', 'Topic': 'Inspection', 'Status': 'Late', 'count': 3},\n",
       "  {'EmpNum': '29436', 'Topic': 'Inspection', 'Status': 'On Time', 'count': 3},\n",
       "  {'EmpNum': '29436', 'Topic': 'Training', 'Status': 'On Time', 'count': 7},\n",
       "  {'EmpNum': '29436.0', 'Topic': 'New Product', 'Status': 'Late', 'count': 4},\n",
       "  {'EmpNum': '29436.0',\n",
       "   'Topic': 'New Product',\n",
       "   'Status': 'On Time',\n",
       "   'count': 3},\n",
       "  {'EmpNum': '32301', 'Topic': 'Audit', 'Status': 'On Time', 'count': 4},\n",
       "  {'EmpNum': '32301', 'Topic': 'CAPA', 'Status': 'Late', 'count': 1},\n",
       "  {'EmpNum': '32301', 'Topic': 'CAPA', 'Status': 'On Time', 'count': 2},\n",
       "  {'EmpNum': '32301', 'Topic': 'Inspection', 'Status': 'Late', 'count': 2},\n",
       "  {'EmpNum': '32301', 'Topic': 'Inspection', 'Status': 'On Time', 'count': 1},\n",
       "  {'EmpNum': '32301', 'Topic': 'Training', 'Status': 'On Time', 'count': 5},\n",
       "  {'EmpNum': '32301.0',\n",
       "   'Topic': 'New Product',\n",
       "   'Status': 'On Time',\n",
       "   'count': 2},\n",
       "  {'EmpNum': '49570', 'Topic': 'Audit', 'Status': 'Late', 'count': 2},\n",
       "  {'EmpNum': '49570', 'Topic': 'Audit', 'Status': 'On Time', 'count': 5},\n",
       "  {'EmpNum': '49570', 'Topic': 'CAPA', 'Status': 'Late', 'count': 2},\n",
       "  {'EmpNum': '49570', 'Topic': 'CAPA', 'Status': 'On Time', 'count': 3},\n",
       "  {'EmpNum': '49570', 'Topic': 'Inspection', 'Status': 'Late', 'count': 4},\n",
       "  {'EmpNum': '49570', 'Topic': 'Inspection', 'Status': 'On Time', 'count': 2},\n",
       "  {'EmpNum': '49570', 'Topic': 'Training', 'Status': 'Late', 'count': 1},\n",
       "  {'EmpNum': '49570', 'Topic': 'Training', 'Status': 'On Time', 'count': 2},\n",
       "  {'EmpNum': '49570.0', 'Topic': 'New Product', 'Status': 'Late', 'count': 2},\n",
       "  {'EmpNum': '49570.0',\n",
       "   'Topic': 'New Product',\n",
       "   'Status': 'On Time',\n",
       "   'count': 2},\n",
       "  {'EmpNum': '77030', 'Topic': 'Audit', 'Status': 'Late', 'count': 2},\n",
       "  {'EmpNum': '77030', 'Topic': 'Audit', 'Status': 'On Time', 'count': 13},\n",
       "  {'EmpNum': '77030', 'Topic': 'CAPA', 'Status': 'Late', 'count': 7},\n",
       "  {'EmpNum': '77030', 'Topic': 'CAPA', 'Status': 'On Time', 'count': 2},\n",
       "  {'EmpNum': '77030', 'Topic': 'Inspection', 'Status': 'Late', 'count': 2},\n",
       "  {'EmpNum': '77030', 'Topic': 'Inspection', 'Status': 'On Time', 'count': 6},\n",
       "  {'EmpNum': '77030', 'Topic': 'Training', 'Status': 'Late', 'count': 1},\n",
       "  {'EmpNum': '77030', 'Topic': 'Training', 'Status': 'On Time', 'count': 3},\n",
       "  {'EmpNum': '77030.0', 'Topic': 'New Product', 'Status': 'Late', 'count': 3},\n",
       "  {'EmpNum': '77030.0',\n",
       "   'Topic': 'New Product',\n",
       "   'Status': 'On Time',\n",
       "   'count': 2},\n",
       "  {'EmpNum': '77707', 'Topic': 'Audit', 'Status': 'Late', 'count': 2},\n",
       "  {'EmpNum': '77707', 'Topic': 'Audit', 'Status': 'On Time', 'count': 6},\n",
       "  {'EmpNum': '77707', 'Topic': 'CAPA', 'Status': 'Late', 'count': 2},\n",
       "  {'EmpNum': '77707', 'Topic': 'CAPA', 'Status': 'On Time', 'count': 1},\n",
       "  {'EmpNum': '77707', 'Topic': 'Inspection', 'Status': 'Late', 'count': 2},\n",
       "  {'EmpNum': '77707', 'Topic': 'Inspection', 'Status': 'On Time', 'count': 2},\n",
       "  {'EmpNum': '77707', 'Topic': 'Training', 'Status': 'On Time', 'count': 8},\n",
       "  {'EmpNum': '77707.0', 'Topic': 'New Product', 'Status': 'Late', 'count': 4},\n",
       "  {'EmpNum': '77707.0',\n",
       "   'Topic': 'New Product',\n",
       "   'Status': 'On Time',\n",
       "   'count': 1},\n",
       "  {'EmpNum': '88927', 'Topic': 'CAPA', 'Status': 'Late', 'count': 4},\n",
       "  {'EmpNum': '88927', 'Topic': 'CAPA', 'Status': 'On Time', 'count': 5},\n",
       "  {'EmpNum': '88927', 'Topic': 'Inspection', 'Status': 'Late', 'count': 5},\n",
       "  {'EmpNum': '88927', 'Topic': 'Inspection', 'Status': 'On Time', 'count': 3},\n",
       "  {'EmpNum': '88927', 'Topic': 'Training', 'Status': 'Late', 'count': 1},\n",
       "  {'EmpNum': '88927', 'Topic': 'Training', 'Status': 'On Time', 'count': 5},\n",
       "  {'EmpNum': '88927.0', 'Topic': 'New Product', 'Status': 'Late', 'count': 3}]}"
      ]
     },
     "execution_count": 32,
     "metadata": {},
     "output_type": "execute_result"
    }
   ],
   "source": [
    "outdata"
   ]
  },
  {
   "cell_type": "code",
   "execution_count": 34,
   "metadata": {},
   "outputs": [],
   "source": [
    "json_string = json.dumps(outdata)\n",
    "# print(json_string)\n",
    "with open('json_data.json', 'w') as outfile:\n",
    "    outfile.write(json_string)"
   ]
  }
 ],
 "metadata": {
  "kernelspec": {
   "display_name": "Python 3",
   "language": "python",
   "name": "python3"
  },
  "language_info": {
   "codemirror_mode": {
    "name": "ipython",
    "version": 3
   },
   "file_extension": ".py",
   "mimetype": "text/x-python",
   "name": "python",
   "nbconvert_exporter": "python",
   "pygments_lexer": "ipython3",
   "version": "3.8.5"
  }
 },
 "nbformat": 4,
 "nbformat_minor": 4
}
